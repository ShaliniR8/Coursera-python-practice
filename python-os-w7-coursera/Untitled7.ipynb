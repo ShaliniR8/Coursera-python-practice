{
  "nbformat": 4,
  "nbformat_minor": 0,
  "metadata": {
    "colab": {
      "name": "Untitled7.ipynb",
      "provenance": [],
      "collapsed_sections": []
    },
    "kernelspec": {
      "name": "python3",
      "display_name": "Python 3"
    }
  },
  "cells": [
    {
      "cell_type": "code",
      "metadata": {
        "id": "TNGk9II9CEj2"
      },
      "source": [
        "import pandas as pd\r\n",
        "import io"
      ],
      "execution_count": 13,
      "outputs": []
    },
    {
      "cell_type": "code",
      "metadata": {
        "id": "biMglE_JCQoF"
      },
      "source": [
        "a = pd.read_csv('report_errors.csv')\r\n",
        "a.to_html('report_errors.html')\r\n",
        "html_file = a.to_html() "
      ],
      "execution_count": 14,
      "outputs": []
    },
    {
      "cell_type": "code",
      "metadata": {
        "id": "TyWM_vqECV4S"
      },
      "source": [
        "a = pd.read_csv('report_users.csv')\r\n",
        "a.to_html('report_users.html')\r\n",
        "html_file2 = a.to_html() "
      ],
      "execution_count": 15,
      "outputs": []
    },
    {
      "cell_type": "code",
      "metadata": {
        "id": "lh3-Rgw6CtrD"
      },
      "source": [
        ""
      ],
      "execution_count": null,
      "outputs": []
    }
  ]
}